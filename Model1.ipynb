{
 "cells": [
  {
   "cell_type": "code",
   "execution_count": 1,
   "id": "77ee7ae0",
   "metadata": {},
   "outputs": [],
   "source": [
    "import numpy as np\n",
    "import scipy.stats\n",
    "import matplotlib.pyplot as plt"
   ]
  },
  {
   "cell_type": "code",
   "execution_count": 2,
   "id": "a212adea",
   "metadata": {},
   "outputs": [],
   "source": [
    "# This is needed for autoformatting\n",
    "# !pip install black[jupyter]\n",
    "# !pip install --upgrade click==8.0.2\n",
    "# from google.colab import drive\n",
    "# drive.mount(\"/content/drive\")\n",
    "# !black /content/drive/MyDrive/Colab Notebooks/IuliaModel.ipynb"
   ]
  },
  {
   "cell_type": "code",
   "execution_count": 4,
   "id": "d172e61a",
   "metadata": {},
   "outputs": [],
   "source": [
    "def logprob_dm(dm, params):\n",
    "    # P(dm) log pdf\n",
    "    cen, sig = params[\"dm_cen\"], params[\"dm_sig\"]\n",
    "    N = scipy.stats.norm(cen)\n",
    "    return N.logpdf(dm)\n",
    "\n",
    "\n",
    "def logcdf_dm(dm, params):\n",
    "    cen, sig = params[\"dm_cen\"], params[\"dm_sig\"]\n",
    "    N = scipy.stats.norm(cen, sig)\n",
    "    return N.logcdf(dm)\n",
    "\n",
    "\n",
    "def logprob_dm_tracer(dm, params, extra):\n",
    "    # P(dm|tracer)\n",
    "    maglim1 = extra[\"mag_lim1\"]\n",
    "    maglim2 = extra[\"mag_lim2\"]\n",
    "    abs_mag = extra[\"abs_mag\"]\n",
    "    dm1 = maglim1 - abs_mag\n",
    "    dm2 = maglim2 - abs_mag\n",
    "    # normalized by the integral from dm1 to dm2\n",
    "    return logprob_dm(dm, params) - (logcdf_dm(dm2, params) - logcdf_dm(dm1, params))\n",
    "\n",
    "\n",
    "def logp_pm_tracer(mux, muy, dm, params):\n",
    "    # P(proper motions conditional on distance modulus)\n",
    "\n",
    "    mux0, muy0, mux_grad, muy_grad = (\n",
    "        params[\"mux0\"],\n",
    "        params[\"muy0\"],\n",
    "        params[\"mux_grad\"],\n",
    "        params[\"muy_grad\"],\n",
    "    )\n",
    "    N = len(mux)\n",
    "    musig0, musig_grad = params[\"musig0\"], params[\"musig_grad\"]\n",
    "    mu_vec = np.array([mux, muy]).T\n",
    "\n",
    "    dm0 = 10\n",
    "    mu_mean_pred = np.array(\n",
    "        [mux0 + mux_grad * (dm - dm0), muy0 + muy_grad * (dm - dm0)]\n",
    "    ).T\n",
    "    sig2 = musig0 ** 2 * (1 + (dm - dm0) * musig_grad)\n",
    "    covar_pred = np.array([[sig2, sig2 * 0], [sig2 * 0, sig2]])\n",
    "    covar_pred = np.swapaxes(covar_pred, 0, 2)\n",
    "    ret = 0\n",
    "    for i in range(N):\n",
    "        dmu = mu_vec[i] - mu_mean_pred[i]\n",
    "        icovar = scipy.linalg.inv(covar_pred[i])\n",
    "        curl = -0.5 * dmu.T @ icovar @ dmu + 0.5 * np.log(scipy.linalg.det(icovar))\n",
    "        ret += curl\n",
    "    return ret\n",
    "\n",
    "\n",
    "def loglike(p, data, extra):\n",
    "    # combined log-likelihood\n",
    "    frac, mux0, muy0, mux_grad, muy_grad, musig0, musig_grad, dm_cen, dm_sig = p\n",
    "    params = {\n",
    "        \"mux0\": mux0,\n",
    "        \"muy0\": muy0,\n",
    "        \"mux_grad\": mux_grad,\n",
    "        \"muy_grad\": muy_grad,\n",
    "        \"musig0\": musig0,\n",
    "        \"musig_grad\": musig_grad,\n",
    "        \"dm_cen\": dm_cen,\n",
    "        \"dm_sig\": dm_sig,\n",
    "    }\n",
    "    mux, muy, mags = data['mux'], data['muy'], data['mags']\n",
    "    abs_mag1 = extra[\"abs_mag1\"]\n",
    "    abs_mag2 = extra[\"abs_mag2\"]\n",
    "    dm1 = mags - abs_mag1\n",
    "    dm2 = mags - abs_mag2\n",
    "    extra1 = extra.copy()\n",
    "    extra2 = extra.copy()\n",
    "    extra1[\"abs_mag\"] = abs_mag1\n",
    "    extra2[\"abs_mag\"] = abs_mag2\n",
    "\n",
    "    term1 = (\n",
    "        np.log(frac)\n",
    "        + logp_pm_tracer(mux, muy, dm1, params)\n",
    "        + logprob_dm_tracer(dm1, params, extra1)\n",
    "    )\n",
    "    term2 = (\n",
    "        np.log1p(-frac)\n",
    "        + logp_pm_tracer(mux, muy, dm2, params)\n",
    "        + logprob_dm_tracer(dm2, params, extra2)\n",
    "    )\n",
    "\n",
    "    ret = np.logaddexp(term1, term2)\n",
    "    return ret.sum()"
   ]
  },
  {
   "cell_type": "code",
   "execution_count": 5,
   "id": "f6f9b655",
   "metadata": {},
   "outputs": [],
   "source": [
    "rng = np.random.default_rng(33)"
   ]
  },
  {
   "cell_type": "code",
   "execution_count": 6,
   "id": "b33016ad",
   "metadata": {},
   "outputs": [
    {
     "name": "stdout",
     "output_type": "stream",
     "text": [
      "-990298.0413592252\n"
     ]
    }
   ],
   "source": [
    "def getdata(N, extra):\n",
    "  mlim1 = extra['mag_lim1']\n",
    "  mlim2 = extra['mag_lim2']\n",
    "  abs_mag1 = extra['abs_mag1']\n",
    "  abs_mag2 = extra['abs_mag2']\n",
    "  mux = rng.normal(size=N)\n",
    "  muy = rng.normal(size=N)\n",
    "  mags = np.random.uniform(mlim1, mlim2, size=N)\n",
    "  D =  {'mags':mags,'mux':mux, 'muy':muy}\n",
    "  return D\n",
    "\n",
    "extra = {'mag_lim1':10,'mag_lim2':15,'abs_mag1':0,'abs_mag2':3}\n",
    "D=getdata(1000,extra)\n",
    "p = [0.5, 0, 0, 0, 0, 1, 0, 10, 1]\n",
    "print(loglike(p, D, extra))"
   ]
  },
  {
   "cell_type": "code",
   "execution_count": 7,
   "id": "3eef6e91",
   "metadata": {},
   "outputs": [
    {
     "name": "stdout",
     "output_type": "stream",
     "text": [
      "[[[ 6.04964746 -2.18100726]\n",
      "  [-2.18100726  9.0250135 ]]\n",
      "\n",
      " [[ 4.95303242  0.        ]\n",
      "  [ 0.          7.3890561 ]]\n",
      "\n",
      " [[ 4.05519997  1.46197289]\n",
      "  [ 1.46197289  6.04964746]]]\n"
     ]
    }
   ],
   "source": [
    "def get_covars(dm, params, extra):\n",
    "    # get covariance matrices for each star\n",
    "    cov_knots = extra[\"knots\"]  # location of spline knots in dm\n",
    "    n_knots = len(cov_knots)\n",
    "    lsigma_x_vals = params[\"lsigma_x_vals\"]  # log sigmax\n",
    "    lsigma_y_vals = params[\"lsigma_y_vals\"]  # log sigma y\n",
    "    corr_coeff_vals = params[\"tan_rho_xy_vals\"]  # tan(rho_xy * pi/2)\n",
    "    SPLx = scipy.interpolate.CubicSpline(cov_knots, lsigma_x_vals)\n",
    "    SPLy = scipy.interpolate.CubicSpline(cov_knots, lsigma_y_vals)\n",
    "    SPLxy = scipy.interpolate.CubicSpline(cov_knots, corr_coeff_vals)\n",
    "    sigma_x = np.exp(SPLx(dm))\n",
    "    sigma_y = np.exp(SPLy(dm))\n",
    "    sigma_xy = np.arctan(SPLxy(dm)) * 2 / np.pi * sigma_x * sigma_y\n",
    "    mats = np.zeros((len(dm), 2, 2))\n",
    "    mats[:, 0, 0] = sigma_x ** 2\n",
    "    mats[:, 1, 1] = sigma_y ** 2\n",
    "    mats[:, 0, 1] = sigma_xy\n",
    "    mats[:, 1, 0] = sigma_xy\n",
    "    return mats\n",
    "\n",
    "\n",
    "print(\n",
    "    get_covars(\n",
    "        np.array([13, 14, 15]),\n",
    "        extra={\"knots\": np.array([12, 14, 16])},\n",
    "        params={\n",
    "            \"lsigma_x_vals\": [1, 0.8, 0.6],\n",
    "            \"lsigma_y_vals\": [1.2, 1, 0.8],\n",
    "            \"tan_rho_xy_vals\": [-1, 0, 1],\n",
    "        },\n",
    "    )\n",
    ")"
   ]
  },
  {
   "cell_type": "code",
   "execution_count": null,
   "id": "b8e4a907",
   "metadata": {},
   "outputs": [],
   "source": []
  }
 ],
 "metadata": {
  "kernelspec": {
   "display_name": "Python 3 (ipykernel)",
   "language": "python",
   "name": "python3"
  },
  "language_info": {
   "codemirror_mode": {
    "name": "ipython",
    "version": 3
   },
   "file_extension": ".py",
   "mimetype": "text/x-python",
   "name": "python",
   "nbconvert_exporter": "python",
   "pygments_lexer": "ipython3",
   "version": "3.10.9"
  }
 },
 "nbformat": 4,
 "nbformat_minor": 5
}
